{
 "cells": [
  {
   "cell_type": "code",
   "execution_count": 0,
   "metadata": {
    "application/vnd.databricks.v1+cell": {
     "cellMetadata": {
      "byteLimit": 2048000,
      "rowLimit": 10000
     },
     "inputWidgets": {},
     "nuid": "b1f43e9b-27db-4562-840b-a5c0d773e39d",
     "showTitle": false,
     "tableResultSettingsMap": {},
     "title": ""
    }
   },
   "outputs": [],
   "source": [
    "from sklearn.compose import ColumnTransformer\n",
    "from sklearn.pipeline import Pipeline\n",
    "from sklearn.impute import SimpleImputer\n",
    "from sklearn.preprocessing import OneHotEncoder, StandardScaler\n",
    "from sklearn.tree import DecisionTreeRegressor\n",
    "from sklearn.ensemble import RandomForestRegressor\n",
    "from sklearn.neighbors import KNeighborsRegressor\n",
    "from sklearn.linear_model import LinearRegression\n",
    "from sklearn.svm import SVR\n",
    "from sklearn.neural_network import MLPRegressor\n",
    "from sklearn.model_selection import GridSearchCV, train_test_split\n",
    "from sklearn.metrics import mean_squared_error, r2_score\n",
    "import numpy as np\n",
    "import pandas as pd\n",
    "from pyspark.sql.functions import sum as _sum\n",
    "import matplotlib.pyplot as plt\n",
    "from pyspark.ml.functions import vector_to_array\n",
    "from pyspark.sql.functions import col, when\n",
    "import seaborn as sns"
   ]
  },
  {
   "cell_type": "code",
   "execution_count": 0,
   "metadata": {
    "application/vnd.databricks.v1+cell": {
     "cellMetadata": {
      "byteLimit": 2048000,
      "rowLimit": 10000
     },
     "inputWidgets": {},
     "nuid": "040f5ca2-010c-40e1-8b6b-5774dda003cc",
     "showTitle": false,
     "tableResultSettingsMap": {},
     "title": ""
    }
   },
   "outputs": [],
   "source": [
    "%fs ls /mnt/Avocado_Project"
   ]
  },
  {
   "cell_type": "code",
   "execution_count": 0,
   "metadata": {
    "application/vnd.databricks.v1+cell": {
     "cellMetadata": {
      "byteLimit": 2048000,
      "rowLimit": 10000
     },
     "inputWidgets": {},
     "nuid": "b1f601e0-b86d-4440-8da8-d3a49735423b",
     "showTitle": false,
     "tableResultSettingsMap": {},
     "title": ""
    }
   },
   "outputs": [],
   "source": [
    "%fs ls /mnt/Avocado_Project/Silver"
   ]
  },
  {
   "cell_type": "code",
   "execution_count": 0,
   "metadata": {
    "application/vnd.databricks.v1+cell": {
     "cellMetadata": {
      "byteLimit": 2048000,
      "rowLimit": 10000
     },
     "inputWidgets": {},
     "nuid": "2b064362-af57-41b8-bdd8-d46b997cd0cc",
     "showTitle": false,
     "tableResultSettingsMap": {},
     "title": ""
    }
   },
   "outputs": [],
   "source": [
    "df = spark.read.parquet(\"dbfs:/mnt/Avocado_Project/Silver/avocado_silver.parquet\")\n",
    "display(df)"
   ]
  },
  {
   "cell_type": "markdown",
   "metadata": {
    "application/vnd.databricks.v1+cell": {
     "cellMetadata": {},
     "inputWidgets": {},
     "nuid": "4337b66f-ab52-456f-b335-091cfed70062",
     "showTitle": false,
     "tableResultSettingsMap": {},
     "title": ""
    }
   },
   "source": [
    "DATA VISUALIZATION"
   ]
  },
  {
   "cell_type": "code",
   "execution_count": 0,
   "metadata": {
    "application/vnd.databricks.v1+cell": {
     "cellMetadata": {
      "byteLimit": 2048000,
      "rowLimit": 10000
     },
     "inputWidgets": {},
     "nuid": "5c44cc2d-2200-41ae-b512-8c1485e3e7f3",
     "showTitle": false,
     "tableResultSettingsMap": {},
     "title": ""
    }
   },
   "outputs": [],
   "source": [
    "\n",
    "volume_total_tipos = df.select(\n",
    "    _sum(\"SmallHass\").alias(\"SmallHass\"),\n",
    "    _sum(\"LargeHass\").alias(\"LargeHass\"),\n",
    "    _sum(\"XLargeHass\").alias(\"XLargeHass\")\n",
    ").toPandas().melt(var_name=\"Type\", value_name=\"Volume\")\n",
    "\n",
    "plt.figure(figsize=(6,4))\n",
    "sns.barplot(data=volume_total_tipos, x=\"Type\", y=\"Volume\")\n",
    "plt.title(\"Total Volume by Avocado Type (Hass)\")\n",
    "plt.tight_layout()\n",
    "plt.show()\n"
   ]
  },
  {
   "cell_type": "code",
   "execution_count": 0,
   "metadata": {
    "application/vnd.databricks.v1+cell": {
     "cellMetadata": {
      "byteLimit": 2048000,
      "rowLimit": 10000
     },
     "inputWidgets": {},
     "nuid": "2f3ede8e-b685-4d67-8ce1-dedeb04673a5",
     "showTitle": false,
     "tableResultSettingsMap": {},
     "title": ""
    }
   },
   "outputs": [],
   "source": [
    "from pyspark.sql.functions import sum as _sum\n",
    "import matplotlib.pyplot as plt\n",
    "\n",
    "# Agrupar volume total por região\n",
    "volume_por_regiao = df.groupBy(\"region\").agg(_sum(\"volume\").alias(\"total_volume\")).orderBy(\"total_volume\", ascending=False)\n",
    "\n",
    "# Convert to Pandas DataFrame for plotting\n",
    "volume_por_regiao_pd = volume_por_regiao.toPandas()\n",
    "\n",
    "# Opcional: limitar para as 10 regiões com maior volume\n",
    "volume_top10 = volume_por_regiao_pd.head(10)\n",
    "\n",
    "# Criar o gráfico\n",
    "plt.figure(figsize=(8, 8))\n",
    "plt.pie(volume_top10[\"total_volume\"], labels=volume_top10[\"region\"], autopct='%1.1f%%', startangle=140)\n",
    "plt.title(\"Top 10 Regiões com Maior Volume Vendido de Abacates\")\n",
    "plt.axis('equal')  # Garantir o formato circular\n",
    "plt.tight_layout()\n",
    "plt.show()\n",
    "\n"
   ]
  },
  {
   "cell_type": "code",
   "execution_count": 0,
   "metadata": {
    "application/vnd.databricks.v1+cell": {
     "cellMetadata": {
      "byteLimit": 2048000,
      "rowLimit": 10000
     },
     "inputWidgets": {},
     "nuid": "8e4a7acb-2b26-4110-af41-1f3b6a683c0d",
     "showTitle": false,
     "tableResultSettingsMap": {},
     "title": ""
    }
   },
   "outputs": [],
   "source": [
    "%python\n",
    "from pyspark.sql.functions import sum as _sum\n",
    "\n",
    "volume_por_type = df.groupBy(\"type\").agg(_sum(\"volume\").alias(\"volume\")).toPandas()\n",
    "\n",
    "plt.figure(figsize=(6,4))\n",
    "sns.barplot(data=volume_por_type, x=\"type\", y=\"volume\")\n",
    "plt.title(\"Volume Total por Tipo (Orgânico x Convencional)\")\n",
    "plt.xlabel(\"Tipo\")\n",
    "plt.ylabel(\"Volume Total\")\n",
    "plt.tight_layout()\n",
    "plt.show()"
   ]
  },
  {
   "cell_type": "code",
   "execution_count": 0,
   "metadata": {
    "application/vnd.databricks.v1+cell": {
     "cellMetadata": {
      "byteLimit": 2048000,
      "rowLimit": 10000
     },
     "inputWidgets": {},
     "nuid": "c5e7cf8f-8592-480a-84ea-18382d83104d",
     "showTitle": false,
     "tableResultSettingsMap": {},
     "title": ""
    }
   },
   "outputs": [],
   "source": [
    "%python\n",
    "preco_por_type = (\n",
    "    df.groupby(\"type\")\n",
    "    .agg({\"AveragePrice\": \"mean\"})\n",
    "    .withColumnRenamed(\"avg(AveragePrice)\", \"AveragePrice\")\n",
    "    .toPandas()\n",
    "    .reset_index()\n",
    ")\n",
    "\n",
    "plt.figure(figsize=(6,4))\n",
    "sns.barplot(data=preco_por_type, x=\"type\", y=\"AveragePrice\")\n",
    "plt.title(\"Preço Médio por Tipo de Abacate\")\n",
    "plt.xlabel(\"Tipo\")\n",
    "plt.ylabel(\"Preço Médio (USD)\")\n",
    "plt.tight_layout()\n",
    "plt.show()"
   ]
  },
  {
   "cell_type": "markdown",
   "metadata": {
    "application/vnd.databricks.v1+cell": {
     "cellMetadata": {},
     "inputWidgets": {},
     "nuid": "fa0d967d-6642-4ed6-8dc0-f37b54503e7c",
     "showTitle": false,
     "tableResultSettingsMap": {},
     "title": ""
    }
   },
   "source": [
    "MACHINE LEARNING MODEL"
   ]
  },
  {
   "cell_type": "code",
   "execution_count": 0,
   "metadata": {
    "application/vnd.databricks.v1+cell": {
     "cellMetadata": {
      "byteLimit": 2048000,
      "rowLimit": 10000
     },
     "inputWidgets": {},
     "nuid": "c84dbfc9-412f-45ea-bdb2-cef0d9da5c40",
     "showTitle": false,
     "tableResultSettingsMap": {},
     "title": ""
    }
   },
   "outputs": [],
   "source": [
    "df_ml = spark.read.parquet(\"dbfs:/mnt/Avocado_Project/Silver/avocado_silver_ml_ready.parquet/\")\n",
    "display(df_ml.limit((10)))"
   ]
  },
  {
   "cell_type": "code",
   "execution_count": 0,
   "metadata": {
    "application/vnd.databricks.v1+cell": {
     "cellMetadata": {
      "byteLimit": 2048000,
      "rowLimit": 10000
     },
     "inputWidgets": {},
     "nuid": "42f65684-aa79-464f-a384-ac44a26cd0d1",
     "showTitle": false,
     "tableResultSettingsMap": {},
     "title": ""
    }
   },
   "outputs": [],
   "source": [
    "df_ml.columns"
   ]
  },
  {
   "cell_type": "code",
   "execution_count": 0,
   "metadata": {
    "application/vnd.databricks.v1+cell": {
     "cellMetadata": {
      "byteLimit": 2048000,
      "rowLimit": 10000
     },
     "inputWidgets": {},
     "nuid": "1d83bf4d-e9b6-46ec-8f8c-e4eaa312efe5",
     "showTitle": false,
     "tableResultSettingsMap": {},
     "title": ""
    }
   },
   "outputs": [],
   "source": [
    "df_ml.select(\"region_vec\").distinct().count()\n"
   ]
  },
  {
   "cell_type": "code",
   "execution_count": 0,
   "metadata": {
    "application/vnd.databricks.v1+cell": {
     "cellMetadata": {
      "byteLimit": 2048000,
      "rowLimit": 10000
     },
     "inputWidgets": {},
     "nuid": "739e4396-201e-4b79-8314-665f86063b21",
     "showTitle": false,
     "tableResultSettingsMap": {},
     "title": ""
    }
   },
   "outputs": [],
   "source": [
    "# Converter os vetores para arrays\n",
    "df_ml = df_ml.withColumn(\"type_vec_arr\", vector_to_array(\"type_vec\")) \\\n",
    "             .withColumn(\"region_vec_arr\", vector_to_array(\"region_vec\"))\n"
   ]
  },
  {
   "cell_type": "code",
   "execution_count": 0,
   "metadata": {
    "application/vnd.databricks.v1+cell": {
     "cellMetadata": {
      "byteLimit": 2048000,
      "rowLimit": 10000
     },
     "inputWidgets": {},
     "nuid": "a3f69212-81cf-4ca3-9f72-f3f3a0fecdfa",
     "showTitle": false,
     "tableResultSettingsMap": {},
     "title": ""
    }
   },
   "outputs": [],
   "source": [
    "df_ml = df_ml.withColumn(\"type_bin\", when(col(\"type_vec_arr\")[0] == 1, 0).otherwise(1))\n"
   ]
  },
  {
   "cell_type": "code",
   "execution_count": 0,
   "metadata": {
    "application/vnd.databricks.v1+cell": {
     "cellMetadata": {
      "byteLimit": 2048000,
      "rowLimit": 10000
     },
     "inputWidgets": {},
     "nuid": "5786c49b-4269-422b-8504-f27fad487ea8",
     "showTitle": false,
     "tableResultSettingsMap": {},
     "title": ""
    }
   },
   "outputs": [],
   "source": [
    "from pyspark.sql.functions import expr\n",
    "\n",
    "# Encontrar o índice do 1 no vetor da região\n",
    "df_ml = df_ml.withColumn(\"region_index\", expr(\"array_position(region_vec_arr, 1) - 1\"))"
   ]
  },
  {
   "cell_type": "code",
   "execution_count": 0,
   "metadata": {
    "application/vnd.databricks.v1+cell": {
     "cellMetadata": {
      "byteLimit": 2048000,
      "rowLimit": 10000
     },
     "inputWidgets": {},
     "nuid": "9adfcdee-35ef-4ca3-8103-8c539d01553b",
     "showTitle": false,
     "tableResultSettingsMap": {},
     "title": ""
    }
   },
   "outputs": [],
   "source": [
    "df_ml = df_ml.drop(\"type_vec\", \"region_vec\", \"type_vec_arr\", \"region_vec_arr\")"
   ]
  },
  {
   "cell_type": "code",
   "execution_count": 0,
   "metadata": {
    "application/vnd.databricks.v1+cell": {
     "cellMetadata": {
      "byteLimit": 2048000,
      "rowLimit": 10000
     },
     "inputWidgets": {},
     "nuid": "174eba25-70a7-47b4-bef2-f2b20dff4963",
     "showTitle": false,
     "tableResultSettingsMap": {},
     "title": ""
    }
   },
   "outputs": [],
   "source": [
    "display(df_ml.select(\"type_bin\", \"region_index\").distinct().orderBy(\"region_index\"))\n"
   ]
  },
  {
   "cell_type": "code",
   "execution_count": 0,
   "metadata": {
    "application/vnd.databricks.v1+cell": {
     "cellMetadata": {
      "byteLimit": 2048000,
      "rowLimit": 10000
     },
     "inputWidgets": {},
     "nuid": "136abc38-c6ad-44d4-800c-566e19bf66d6",
     "showTitle": false,
     "tableResultSettingsMap": {},
     "title": ""
    }
   },
   "outputs": [],
   "source": [
    "df_ml = df_ml.filter(df_ml.region_index != -1)\n"
   ]
  },
  {
   "cell_type": "code",
   "execution_count": 0,
   "metadata": {
    "application/vnd.databricks.v1+cell": {
     "cellMetadata": {
      "byteLimit": 2048000,
      "rowLimit": 10000
     },
     "inputWidgets": {},
     "nuid": "beb7cf94-0f9c-47e3-bb03-938919468481",
     "showTitle": false,
     "tableResultSettingsMap": {},
     "title": ""
    }
   },
   "outputs": [],
   "source": [
    "df_pd = df_ml.toPandas()\n",
    "\n",
    "# Preparar X e y\n",
    "X = df_pd.drop(columns=[\"date\", \"AveragePrice\"])  # ou selecione as colunas manualmente\n",
    "y = df_pd[\"AveragePrice\"]"
   ]
  },
  {
   "cell_type": "code",
   "execution_count": 0,
   "metadata": {
    "application/vnd.databricks.v1+cell": {
     "cellMetadata": {
      "byteLimit": 2048000,
      "rowLimit": 10000
     },
     "inputWidgets": {},
     "nuid": "83b626ae-6377-47b9-8029-d16b5d32c7b6",
     "showTitle": false,
     "tableResultSettingsMap": {},
     "title": ""
    }
   },
   "outputs": [],
   "source": [
    "# Colunas categóricas\n",
    "categorical = [\"region_index\"]\n",
    "\n",
    "# Colunas numéricas (menos o type_bin porque já está binário)\n",
    "numeric = [\n",
    "    \"Volume\", \"SmallHass\", \"LargeHass\", \"XLargeHass\",\n",
    "    \"TotalBags\", \"SmallBags\", \"LargeBags\", \"xlarge_bags\", \"Year\"\n",
    "]\n",
    "\n",
    "# Binária\n",
    "binary = [\"type_bin\"]\n"
   ]
  },
  {
   "cell_type": "code",
   "execution_count": 0,
   "metadata": {
    "application/vnd.databricks.v1+cell": {
     "cellMetadata": {
      "byteLimit": 2048000,
      "rowLimit": 10000
     },
     "inputWidgets": {},
     "nuid": "19590af1-de31-425f-8d3a-00a1420041b5",
     "showTitle": false,
     "tableResultSettingsMap": {},
     "title": ""
    }
   },
   "outputs": [],
   "source": [
    "# Pré-processadores\n",
    "numeric_transformer = Pipeline(steps=[\n",
    "    (\"imputer\", SimpleImputer(strategy=\"mean\")),\n",
    "    (\"scaler\", StandardScaler())\n",
    "])\n",
    "\n",
    "categorical_transformer = Pipeline(steps=[\n",
    "    (\"imputer\", SimpleImputer(strategy=\"most_frequent\")),\n",
    "    (\"onehot\", OneHotEncoder(handle_unknown=\"ignore\"))\n",
    "])\n",
    "\n",
    "# Combinar\n",
    "preprocessor = ColumnTransformer(transformers=[\n",
    "    (\"num\", numeric_transformer, numeric),\n",
    "    (\"cat\", categorical_transformer, categorical),\n",
    "    (\"bin\", \"passthrough\", binary)\n",
    "])"
   ]
  },
  {
   "cell_type": "code",
   "execution_count": 0,
   "metadata": {
    "application/vnd.databricks.v1+cell": {
     "cellMetadata": {
      "byteLimit": 2048000,
      "rowLimit": 10000
     },
     "inputWidgets": {},
     "nuid": "f74b1049-9f85-4214-bfc1-6f56f775cca9",
     "showTitle": false,
     "tableResultSettingsMap": {},
     "title": ""
    }
   },
   "outputs": [],
   "source": [
    "# Modelo base\n",
    "model = RandomForestRegressor(random_state=42)\n",
    "\n",
    "# Pipeline completo\n",
    "pipeline = Pipeline(steps=[\n",
    "    (\"preprocessor\", preprocessor),\n",
    "    (\"regressor\", model)\n",
    "])"
   ]
  },
  {
   "cell_type": "code",
   "execution_count": 0,
   "metadata": {
    "application/vnd.databricks.v1+cell": {
     "cellMetadata": {
      "byteLimit": 2048000,
      "rowLimit": 10000
     },
     "inputWidgets": {},
     "nuid": "16aa96fb-971c-4217-9c4c-33bbc9233cad",
     "showTitle": false,
     "tableResultSettingsMap": {},
     "title": ""
    }
   },
   "outputs": [],
   "source": [
    "# Separar treino/teste\n",
    "X_train, X_test, y_train, y_test = train_test_split(X, y, test_size=0.3, random_state=42)\n",
    "\n",
    "# Modelos e grids\n",
    "modelos_grids = {\n",
    "    \"DecisionTree\": (DecisionTreeRegressor(), {\n",
    "        \"regressor__criterion\": [\"squared_error\", \"friedman_mse\"],\n",
    "        \"regressor__splitter\": [\"best\", \"random\"],\n",
    "        \"regressor__min_samples_split\": [2, 5],\n",
    "        \"regressor__min_samples_leaf\": [1, 5]\n",
    "    }),\n",
    "    \"RandomForest\": (RandomForestRegressor(), {\n",
    "        \"regressor__n_estimators\": [50, 100],\n",
    "        \"regressor__max_depth\": [None, 10],\n",
    "        \"regressor__min_samples_split\": [2, 5]\n",
    "    }),\n",
    "    \"KNN\": (KNeighborsRegressor(), {\n",
    "        \"regressor__n_neighbors\": [5, 10],\n",
    "        \"regressor__p\": [1, 2]\n",
    "    }),\n",
    "    \"LinearRegression\": (LinearRegression(), {\n",
    "        \"regressor__fit_intercept\": [True, False],\n",
    "        \"regressor__positive\": [True, False]\n",
    "    }),\n",
    "    \"SVM\": (SVR(), {\n",
    "        \"regressor__C\": [1.0, 10.0],\n",
    "        \"regressor__kernel\": [\"rbf\", \"linear\"],\n",
    "        \"regressor__epsilon\": [0.01, 0.1]\n",
    "    }),\n",
    "    \"MLP\": (MLPRegressor(max_iter=300), {\n",
    "        \"regressor__activation\": [\"relu\", \"logistic\"],\n",
    "        \"regressor__solver\": [\"adam\", \"sgd\"],\n",
    "        \"regressor__hidden_layer_sizes\": [(50,), (100,)]\n",
    "    })\n",
    "}\n",
    "\n",
    "# Executar grid search para todos os modelos\n",
    "resultados = {}"
   ]
  },
  {
   "cell_type": "code",
   "execution_count": 0,
   "metadata": {
    "application/vnd.databricks.v1+cell": {
     "cellMetadata": {
      "byteLimit": 2048000,
      "rowLimit": 10000
     },
     "inputWidgets": {},
     "nuid": "0f6d8d69-4fa9-4b97-82d6-a303846966ac",
     "showTitle": false,
     "tableResultSettingsMap": {},
     "title": ""
    }
   },
   "outputs": [],
   "source": [
    "for nome, (modelo, params) in modelos_grids.items():\n",
    "    pipeline = Pipeline(steps=[\n",
    "        (\"preprocessor\", preprocessor),\n",
    "        (\"regressor\", modelo)\n",
    "    ])\n",
    "    grid = GridSearchCV(pipeline, params, cv=3, scoring=\"neg_root_mean_squared_error\", n_jobs=-1)\n",
    "    grid.fit(X_train, y_train)\n",
    "    y_pred = grid.predict(X_test)\n",
    "    rmse = np.sqrt(mean_squared_error(y_test, y_pred))\n",
    "    r2 = r2_score(y_test, y_pred)\n",
    "    resultados[nome] = {\n",
    "        \"Melhores Parâmetros\": grid.best_params_,\n",
    "        \"RMSE\": rmse,\n",
    "        \"R²\": r2\n",
    "    }\n",
    "\n",
    "resultados_df = pd.DataFrame(resultados).T\n",
    "display(resultados_df)\n"
   ]
  },
  {
   "cell_type": "code",
   "execution_count": 0,
   "metadata": {
    "application/vnd.databricks.v1+cell": {
     "cellMetadata": {
      "byteLimit": 2048000,
      "rowLimit": 10000
     },
     "inputWidgets": {},
     "nuid": "4ef3050d-da93-419f-88b6-232f11477ab1",
     "showTitle": false,
     "tableResultSettingsMap": {},
     "title": ""
    }
   },
   "outputs": [],
   "source": [
    "display(resultados_df)\n"
   ]
  },
  {
   "cell_type": "code",
   "execution_count": 0,
   "metadata": {
    "application/vnd.databricks.v1+cell": {
     "cellMetadata": {
      "byteLimit": 2048000,
      "rowLimit": 10000
     },
     "inputWidgets": {},
     "nuid": "a14fc54c-210f-45bb-87b2-437fae6f6f68",
     "showTitle": false,
     "tableResultSettingsMap": {},
     "title": ""
    }
   },
   "outputs": [],
   "source": [
    "resultados_df.sort_values(by=\"RMSE\")  # quanto menor, melhor\n",
    "# ou\n",
    "resultados_df.sort_values(by=\"R²\", ascending=False)  # quanto maior, melhor\n"
   ]
  },
  {
   "cell_type": "code",
   "execution_count": 0,
   "metadata": {
    "application/vnd.databricks.v1+cell": {
     "cellMetadata": {
      "byteLimit": 2048000,
      "rowLimit": 10000
     },
     "inputWidgets": {},
     "nuid": "cce7e17f-cbfc-4966-8d1c-e065a9832507",
     "showTitle": false,
     "tableResultSettingsMap": {},
     "title": ""
    }
   },
   "outputs": [],
   "source": [
    "resultados_df[\"RMSE\"].plot(kind=\"barh\", title=\"RMSE by Model\", figsize=(8,5))\n",
    "plt.xlabel(\"RMSE\")\n",
    "plt.show()"
   ]
  },
  {
   "cell_type": "code",
   "execution_count": 0,
   "metadata": {
    "application/vnd.databricks.v1+cell": {
     "cellMetadata": {
      "byteLimit": 2048000,
      "rowLimit": 10000
     },
     "inputWidgets": {},
     "nuid": "5e8cb245-f9a2-48db-8231-e42e7eec8a4b",
     "showTitle": false,
     "tableResultSettingsMap": {},
     "title": ""
    }
   },
   "outputs": [],
   "source": [
    "dados = {\n",
    "    \"Modelo\": [\n",
    "        \"Random Forest\", \"KNN\", \"MLP (Neural Net)\",\n",
    "        \"SVM (RBF)\", \"Decision Tree\", \"Regressão Linear\"\n",
    "    ],\n",
    "    \"RMSE\": [0.144, 0.145, 0.195, 0.197, 0.171, 0.254],\n",
    "    \"R²\": [0.851, 0.849, 0.726, 0.722, 0.789, 0.536]\n",
    "}\n",
    "\n",
    "df_modelos = pd.DataFrame(dados).sort_values(\"RMSE\")\n",
    "# Gráfico comparativo com RMSE e R² lado a lado\n",
    "fig, ax = plt.subplots(1, 2, figsize=(14, 6))\n",
    "\n",
    "# Gráfico RMSE\n",
    "ax[0].barh(df_modelos[\"Modelo\"], df_modelos[\"RMSE\"], color=\"skyblue\")\n",
    "ax[0].set_title(\"Ranking de Modelos por RMSE\")\n",
    "ax[0].set_xlabel(\"RMSE (Erro Médio)\")\n",
    "ax[0].invert_yaxis()\n",
    "ax[0].grid(True)\n",
    "\n",
    "# Gráfico R²\n",
    "df_modelos_r2 = df_modelos.sort_values(\"R²\", ascending=False)\n",
    "ax[1].barh(df_modelos_r2[\"Modelo\"], df_modelos_r2[\"R²\"], color=\"lightgreen\")\n",
    "ax[1].set_title(\"Ranking de Modelos por R²\")\n",
    "ax[1].set_xlabel(\"R² Score (quanto maior, melhor)\")\n",
    "ax[1].invert_yaxis()\n",
    "ax[1].grid(True)\n",
    "\n",
    "plt.tight_layout()\n",
    "plt.show()\n"
   ]
  },
  {
   "cell_type": "code",
   "execution_count": 0,
   "metadata": {
    "application/vnd.databricks.v1+cell": {
     "cellMetadata": {
      "byteLimit": 2048000,
      "rowLimit": 10000
     },
     "inputWidgets": {},
     "nuid": "4310f4f3-16c1-470a-a084-acc609913432",
     "showTitle": false,
     "tableResultSettingsMap": {},
     "title": ""
    }
   },
   "outputs": [],
   "source": [
    "# Salvar versão pronta para machine learning (com colunas vetorizadas)\n",
    "df_ml.write.mode(\"overwrite\").parquet(\"dbfs:/mnt/Avocado_Project/Gold/avocado_gold.parquet\")\n"
   ]
  }
 ],
 "metadata": {
  "application/vnd.databricks.v1+notebook": {
   "computePreferences": null,
   "dashboards": [],
   "environmentMetadata": {
    "base_environment": "",
    "environment_version": "2"
   },
   "inputWidgetPreferences": null,
   "language": "python",
   "notebookMetadata": {
    "mostRecentlyExecutedCommandWithImplicitDF": {
     "commandId": 5599116956646723,
     "dataframes": [
      "_sqldf"
     ]
    },
    "pythonIndentUnit": 4
   },
   "notebookName": "Camada Gold",
   "widgets": {}
  },
  "language_info": {
   "name": "python"
  }
 },
 "nbformat": 4,
 "nbformat_minor": 0
}
