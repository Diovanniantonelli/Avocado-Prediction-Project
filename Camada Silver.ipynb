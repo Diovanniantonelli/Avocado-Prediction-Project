{
 "cells": [
  {
   "cell_type": "markdown",
   "metadata": {},
   "source": [
    "# Avocado Dataset - Silver Layer\n",
    "This notebook performs data cleaning, encoding, and saves two versions:\n",
    "- One for analytics\n",
    "- One for machine learning"
   ]
  },
  {
   "cell_type": "code",
   "execution_count": null,
   "metadata": {},
   "outputs": [],
   "source": [
    "from pyspark.sql import SparkSession\n",
    "from pyspark.sql.functions import to_date, year, col, sum as _sum\n",
    "from pyspark.ml.feature import StringIndexer, OneHotEncoder"
   ]
  },
  {
   "cell_type": "code",
   "execution_count": null,
   "metadata": {},
   "outputs": [],
   "source": [
    "# Initialize Spark session\n",
    "spark = SparkSession.builder.appName(\"AvocadoProject\").getOrCreate()"
   ]
  },
  {
   "cell_type": "code",
   "execution_count": null,
   "metadata": {},
   "outputs": [],
   "source": [
    "# Load the dataset (bronze)\n",
    "df = spark.read.csv(\"/dbfs/mnt/Avocado_Project/Bronze/avocado_dataset.csv\", header=True, inferSchema=True)"
   ]
  },
  {
   "cell_type": "code",
   "execution_count": null,
   "metadata": {},
   "outputs": [],
   "source": [
    "# Rename columns for readability\n",
    "df = df\\\n",
    "    .withColumnRenamed(\"date\", \"Date\")\\\n",
    "    .withColumnRenamed(\"average_price\", \"AveragePrice\")\\\n",
    "    .withColumnRenamed(\"total_volume\", \"Volume\")\\\n",
    "    .withColumnRenamed(\"4046\", \"SmallHass\")\\\n",
    "    .withColumnRenamed(\"4225\", \"LargeHass\")\\\n",
    "    .withColumnRenamed(\"4770\", \"XLargeHass\")\\\n",
    "    .withColumnRenamed(\"total_bags\", \"TotalBags\")\\\n",
    "    .withColumnRenamed(\"small_bags\", \"SmallBags\")\\\n",
    "    .withColumnRenamed(\"large_bags\", \"LargeBags\")\\\n",
    "    .withColumnRenamed(\"x_large_bags\", \"XLargeBags\")\\\n",
    "    .withColumnRenamed(\"type\", \"Type\")\\\n",
    "    .withColumnRenamed(\"year\", \"Year\")\\\n",
    "    .withColumnRenamed(\"geography\", \"Region\")"
   ]
  },
  {
   "cell_type": "code",
   "execution_count": null,
   "metadata": {},
   "outputs": [],
   "source": [
    "# Convert date and extract year again\n",
    "df = df.withColumn(\"date\", to_date(col(\"Date\"), \"MM/dd/yyyy\"))\n",
    "df = df.withColumn(\"Year\", year(col(\"date\")))"
   ]
  },
  {
   "cell_type": "code",
   "execution_count": null,
   "metadata": {},
   "outputs": [],
   "source": [
    "# Null values\n",
    "null_counts = df.select([_sum(col(c).isNull().cast(\"int\")).alias(c) for c in df.columns])\n",
    "null_counts.show()"
   ]
  },
  {
   "cell_type": "code",
   "execution_count": null,
   "metadata": {},
   "outputs": [],
   "source": [
    "# Drop duplicates\n",
    "df = df.dropDuplicates()"
   ]
  },
  {
   "cell_type": "code",
   "execution_count": null,
   "metadata": {},
   "outputs": [],
   "source": [
    "# StringIndexer + OneHotEncoder\n",
    "indexer_type = StringIndexer(inputCol=\"Type\", outputCol=\"type_index\")\n",
    "df = indexer_type.fit(df).transform(df)\n",
    "\n",
    "indexer_region = StringIndexer(inputCol=\"Region\", outputCol=\"region_index\")\n",
    "df = indexer_region.fit(df).transform(df)\n",
    "\n",
    "encoder = OneHotEncoder(\n",
    "    inputCols=[\"type_index\", \"region_index\"],\n",
    "    outputCols=[\"type_vec\", \"region_vec\"]\n",
    ")\n",
    "\n",
    "df_encoded = encoder.fit(df).transform(df)"
   ]
  },
  {
   "cell_type": "code",
   "execution_count": null,
   "metadata": {},
   "outputs": [],
   "source": [
    "# Drop encoded columns\n",
    "df_encoded = df_encoded.drop(\"Type\", \"Region\", \"type_index\", \"region_index\")"
   ]
  },
  {
   "cell_type": "code",
   "execution_count": null,
   "metadata": {},
   "outputs": [],
   "source": [
    "# Save Silver Layer\n",
    "df.write.mode(\"overwrite\").parquet(\"/dbfs/mnt/Avocado_Project/Silver/avocado_silver.parquet\")\n",
    "df_encoded.write.mode(\"overwrite\").parquet(\"/dbfs/mnt/Avocado_Project/Silver/avocado_silver_ml_ready.parquet\")"
   ]
  }
 ],
 "metadata": {
  "kernelspec": {
   "display_name": "Python 3",
   "language": "python",
   "name": "python3"
  },
  "language_info": {
   "name": "python"
  }
 },
 "nbformat": 4,
 "nbformat_minor": 5
}
